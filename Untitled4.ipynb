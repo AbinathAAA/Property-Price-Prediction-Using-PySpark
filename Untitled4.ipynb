{
  "nbformat": 4,
  "nbformat_minor": 0,
  "metadata": {
    "colab": {
      "provenance": [],
      "include_colab_link": true
    },
    "kernelspec": {
      "name": "python3",
      "display_name": "Python 3"
    },
    "language_info": {
      "name": "python"
    }
  },
  "cells": [
    {
      "cell_type": "markdown",
      "metadata": {
        "id": "view-in-github",
        "colab_type": "text"
      },
      "source": [
        "<a href=\"https://colab.research.google.com/github/AbinathAAA/Property-Price-Prediction-Using-PySpark/blob/main/Untitled4.ipynb\" target=\"_parent\"><img src=\"https://colab.research.google.com/assets/colab-badge.svg\" alt=\"Open In Colab\"/></a>"
      ]
    },
    {
      "cell_type": "code",
      "execution_count": null,
      "metadata": {
        "colab": {
          "base_uri": "https://localhost:8080/"
        },
        "id": "fNDOnXYo3G8c",
        "outputId": "01ac003d-cd4d-4afe-f149-50ce18d5afb6"
      },
      "outputs": [
        {
          "output_type": "stream",
          "name": "stdout",
          "text": [
            "Requirement already satisfied: pyspark in /usr/local/lib/python3.11/dist-packages (3.5.1)\n",
            "Requirement already satisfied: py4j==0.10.9.7 in /usr/local/lib/python3.11/dist-packages (from pyspark) (0.10.9.7)\n"
          ]
        }
      ],
      "source": [
        "!pip3 install pyspark"
      ]
    },
    {
      "cell_type": "code",
      "source": [
        "#initialize SparkSession and installed Required Libraries\n",
        "from pyspark.sql import SparkSession\n",
        "from pyspark.ml.feature import VectorAssembler, StandardScaler\n",
        "from pyspark.ml.regression import LinearRegression\n",
        "from pyspark.ml.evaluation import RegressionEvaluator\n",
        "\n",
        "# Initialize SparkSession\n",
        "spark = SparkSession.builder \\\n",
        "                    .appName(\"LinearRegression_spark\") \\\n",
        "                    .master(\"local[*]\") \\\n",
        "                    .config(\"spark.executor.memory\", \"4g\") \\\n",
        "                    .config(\"spark.driver.memory\", \"2g\") \\\n",
        "                    .config(\"spark.executor.cores\", \"2\") \\\n",
        "                    .config(\"spark.sql.inMemoryColumnarStorage.compressed\", \"true\") \\\n",
        "                    .getOrCreate()\n",
        "\n",
        "\n",
        "spark"
      ],
      "metadata": {
        "colab": {
          "base_uri": "https://localhost:8080/",
          "height": 219
        },
        "id": "gU7xKh7y9R6v",
        "outputId": "0cadbd25-41a7-4ddc-8fd2-2a97acb4d6c7"
      },
      "execution_count": null,
      "outputs": [
        {
          "output_type": "execute_result",
          "data": {
            "text/plain": [
              "<pyspark.sql.session.SparkSession at 0x793620297890>"
            ],
            "text/html": [
              "\n",
              "            <div>\n",
              "                <p><b>SparkSession - in-memory</b></p>\n",
              "                \n",
              "        <div>\n",
              "            <p><b>SparkContext</b></p>\n",
              "\n",
              "            <p><a href=\"http://c0ff67bc409b:4040\">Spark UI</a></p>\n",
              "\n",
              "            <dl>\n",
              "              <dt>Version</dt>\n",
              "                <dd><code>v3.5.1</code></dd>\n",
              "              <dt>Master</dt>\n",
              "                <dd><code>local[*]</code></dd>\n",
              "              <dt>AppName</dt>\n",
              "                <dd><code>LinearRegression_spark</code></dd>\n",
              "            </dl>\n",
              "        </div>\n",
              "        \n",
              "            </div>\n",
              "        "
            ]
          },
          "metadata": {},
          "execution_count": 2
        }
      ]
    },
    {
      "cell_type": "code",
      "source": [
        "print(f\"Spark UI available at: {spark.sparkContext.uiWebUrl}\")\n"
      ],
      "metadata": {
        "colab": {
          "base_uri": "https://localhost:8080/"
        },
        "id": "frsJ7ko19Wui",
        "outputId": "408ba232-666c-42b7-a471-d3bd6b243b28"
      },
      "execution_count": null,
      "outputs": [
        {
          "output_type": "stream",
          "name": "stdout",
          "text": [
            "Spark UI available at: http://368a0493d15f:4040\n"
          ]
        }
      ]
    },
    {
      "cell_type": "code",
      "source": [
        "spark.sparkContext.setLogLevel(\"INFO\")"
      ],
      "metadata": {
        "id": "P1iTR9uB9X_2"
      },
      "execution_count": null,
      "outputs": []
    },
    {
      "cell_type": "code",
      "source": [
        "import psutil\n",
        "print(f\"CPU Usage: {psutil.cpu_percent()}%\")\n",
        "print(f\"Memory Usage: {psutil.virtual_memory().percent}%\")"
      ],
      "metadata": {
        "colab": {
          "base_uri": "https://localhost:8080/"
        },
        "id": "DHb_wf0K9deM",
        "outputId": "638e21b7-c154-4666-c778-a38e35d98a5e"
      },
      "execution_count": null,
      "outputs": [
        {
          "output_type": "stream",
          "name": "stdout",
          "text": [
            "CPU Usage: 33.5%\n",
            "Memory Usage: 11.1%\n"
          ]
        }
      ]
    },
    {
      "cell_type": "code",
      "source": [
        "from google.colab import drive\n",
        "drive.mount('/content/drive')"
      ],
      "metadata": {
        "colab": {
          "base_uri": "https://localhost:8080/"
        },
        "id": "c92glfpU9hzd",
        "outputId": "8fc4c612-2f41-49c2-bbbb-7fe3586d8d07"
      },
      "execution_count": null,
      "outputs": [
        {
          "output_type": "stream",
          "name": "stdout",
          "text": [
            "Mounted at /content/drive\n"
          ]
        }
      ]
    },
    {
      "cell_type": "code",
      "source": [
        "df = spark.read.csv(\"/content/drive/MyDrive/AUel_work/property.csv\", header=True, inferSchema=True)\n",
        "\n",
        "# get familiar with data\n",
        "df.show()\n",
        "\n",
        "# more info\n",
        "print(\"Total Records\",df.count())\n",
        "print(\"Total Partitions \",df.rdd.getNumPartitions())"
      ],
      "metadata": {
        "colab": {
          "base_uri": "https://localhost:8080/"
        },
        "id": "GmCwzVQ19nRg",
        "outputId": "473c075d-f2e5-4aa1-b8d5-42b064bbf699"
      },
      "execution_count": null,
      "outputs": [
        {
          "output_type": "stream",
          "name": "stdout",
          "text": [
            "+--------------+------------+-------------+----------+--------+------------------+\n",
            "|Square_Footage|Num_Bedrooms|Num_Bathrooms|Year_Built|Lot_Size|             Price|\n",
            "+--------------+------------+-------------+----------+--------+------------------+\n",
            "|          1360|           2|            3|      1953|    7860| 303948.1373854071|\n",
            "|          4272|           3|            3|      1997|    5292| 860386.2685075302|\n",
            "|          3592|           4|            1|      1983|    9723| 734389.7538956215|\n",
            "|           966|           6|            1|      1903|    4086| 226448.8070714377|\n",
            "|          4926|           6|            4|      1944|    1081|1022486.2616704078|\n",
            "|          3944|           6|            2|      1938|    3542| 845638.1354384426|\n",
            "|          3671|           2|            1|      1963|    5105| 748779.2192281872|\n",
            "|          3419|           4|            2|      1925|    5448| 743007.2614135538|\n",
            "|           630|           2|            2|      2012|    3204| 135656.4528785377|\n",
            "|          2185|           2|            2|      1921|    7191|480153.16300188465|\n",
            "|          1269|           4|            1|      1953|    9638| 273298.1781911301|\n",
            "|          2891|           6|            2|      1991|    4596|  602871.110555334|\n",
            "|          2933|           5|            1|      1966|    4958| 636462.8293225713|\n",
            "|          1684|           2|            3|      1950|    8724|397958.90799311374|\n",
            "|          3885|           5|            2|      2021|    4695| 810991.7677926597|\n",
            "|          4617|           3|            2|      1943|    1920| 949862.1850290807|\n",
            "|          3404|           2|            3|      1923|    4183| 689906.1306948366|\n",
            "|           974|           3|            2|      2018|    8034|   199985.65592338|\n",
            "|          1582|           1|            4|      1944|    8649| 330837.2755710519|\n",
            "|          3058|           1|            2|      1952|    2572| 604113.6363094774|\n",
            "+--------------+------------+-------------+----------+--------+------------------+\n",
            "only showing top 20 rows\n",
            "\n",
            "Total Records 1000000\n",
            "Total Partitions  2\n"
          ]
        }
      ]
    },
    {
      "cell_type": "code",
      "source": [
        "df.printSchema()"
      ],
      "metadata": {
        "colab": {
          "base_uri": "https://localhost:8080/"
        },
        "id": "UVe5rn789__j",
        "outputId": "7b805907-0e16-4e2c-ce5b-1645a63197a8"
      },
      "execution_count": null,
      "outputs": [
        {
          "output_type": "stream",
          "name": "stdout",
          "text": [
            "root\n",
            " |-- Square_Footage: integer (nullable = true)\n",
            " |-- Num_Bedrooms: integer (nullable = true)\n",
            " |-- Num_Bathrooms: integer (nullable = true)\n",
            " |-- Year_Built: integer (nullable = true)\n",
            " |-- Lot_Size: integer (nullable = true)\n",
            " |-- Price: double (nullable = true)\n",
            "\n"
          ]
        }
      ]
    },
    {
      "cell_type": "code",
      "source": [
        "df.describe().show()"
      ],
      "metadata": {
        "colab": {
          "base_uri": "https://localhost:8080/"
        },
        "id": "STmOwKq_-CLX",
        "outputId": "0d0b4f9d-27db-4634-dc75-d5312585d7ee"
      },
      "execution_count": null,
      "outputs": [
        {
          "output_type": "stream",
          "name": "stdout",
          "text": [
            "+-------+-----------------+-----------------+------------------+-----------------+-----------------+------------------+\n",
            "|summary|   Square_Footage|     Num_Bedrooms|     Num_Bathrooms|       Year_Built|         Lot_Size|             Price|\n",
            "+-------+-----------------+-----------------+------------------+-----------------+-----------------+------------------+\n",
            "|  count|          1000000|          1000000|           1000000|          1000000|          1000000|           1000000|\n",
            "|   mean|      2750.657104|         3.501114|          2.500439|       1960.52736|      5502.373911| 581839.6653163614|\n",
            "| stddev|1298.569362387213|1.708173784151257|1.1178528780094728|35.21780350510348|2598.885882999355|260685.36722644986|\n",
            "|    min|              500|                1|                 1|             1900|             1000| 51495.71116919513|\n",
            "|    max|             4999|                6|                 4|             2021|             9999|1123219.4691521737|\n",
            "+-------+-----------------+-----------------+------------------+-----------------+-----------------+------------------+\n",
            "\n"
          ]
        }
      ]
    },
    {
      "cell_type": "code",
      "source": [
        "print(f\"CPU Usage after openig the csv file: {psutil.cpu_percent()}%\")\n",
        "print(f\"Memory Usage after csv file: {psutil.virtual_memory().percent}%\")"
      ],
      "metadata": {
        "colab": {
          "base_uri": "https://localhost:8080/"
        },
        "id": "AKg3p6G2-OnD",
        "outputId": "8e921994-c3b6-4399-f6a6-4ad8b6ae2819"
      },
      "execution_count": null,
      "outputs": [
        {
          "output_type": "stream",
          "name": "stdout",
          "text": [
            "CPU Usage after openig the csv file: 31.9%\n",
            "Memory Usage after csv file: 14.9%\n"
          ]
        }
      ]
    },
    {
      "cell_type": "code",
      "source": [
        "from pyspark.sql.functions import col,isnan, when, count\n",
        "df.select([count(when(isnan(c) | col(c).isNull(), c))\n",
        ".alias(c) for c in df.columns]).show()"
      ],
      "metadata": {
        "colab": {
          "base_uri": "https://localhost:8080/"
        },
        "id": "JhqhbxFG-QGv",
        "outputId": "2469162a-d2f2-46c0-e6df-4f9967439c9b"
      },
      "execution_count": null,
      "outputs": [
        {
          "output_type": "stream",
          "name": "stdout",
          "text": [
            "+--------------+------------+-------------+----------+--------+-----+\n",
            "|Square_Footage|Num_Bedrooms|Num_Bathrooms|Year_Built|Lot_Size|Price|\n",
            "+--------------+------------+-------------+----------+--------+-----+\n",
            "|             0|           0|            0|         0|       0|    0|\n",
            "+--------------+------------+-------------+----------+--------+-----+\n",
            "\n"
          ]
        }
      ]
    },
    {
      "cell_type": "code",
      "source": [
        "from pyspark.ml.feature import StringIndexer\n",
        "from pyspark.ml.feature import VectorAssembler\n",
        "feature_columns = ['Square_Footage', 'Num_Bedrooms', 'Num_Bathrooms', 'Year_Built', 'Lot_Size']\n",
        "assembler = VectorAssembler(inputCols=feature_columns, outputCol=\"Features\")\n"
      ],
      "metadata": {
        "id": "qW3yW4Az-Uwi"
      },
      "execution_count": null,
      "outputs": []
    },
    {
      "cell_type": "code",
      "source": [
        "scaler = StandardScaler(inputCol=\"Features\", outputCol=\"scaled_Features\")\n"
      ],
      "metadata": {
        "id": "jDzQIQ-QBSYX"
      },
      "execution_count": null,
      "outputs": []
    },
    {
      "cell_type": "code",
      "source": [
        "regressor = LinearRegression(labelCol='Price', featuresCol='scaled_Features')"
      ],
      "metadata": {
        "id": "Nh-dtMoSBa0r"
      },
      "execution_count": null,
      "outputs": []
    },
    {
      "cell_type": "code",
      "source": [
        "from pyspark.ml import Pipeline\n",
        "pipeline = Pipeline(stages=[assembler, scaler, regressor])\n",
        "pipeline.write().overwrite().save(\"pipeline_LRsaved_model\")"
      ],
      "metadata": {
        "id": "W47IQ6W8Bgz0"
      },
      "execution_count": null,
      "outputs": []
    },
    {
      "cell_type": "code",
      "source": [
        "pipelineModel = Pipeline.load(\"pipeline_LRsaved_model\")"
      ],
      "metadata": {
        "id": "76ewT1_HBxcs"
      },
      "execution_count": null,
      "outputs": []
    },
    {
      "cell_type": "code",
      "source": [
        "data_train, data_test = df.randomSplit([0.7, 0.3], seed=123)"
      ],
      "metadata": {
        "id": "fkDgDx8mB8NY"
      },
      "execution_count": null,
      "outputs": []
    },
    {
      "cell_type": "code",
      "source": [
        "model = pipeline.fit(data_train)"
      ],
      "metadata": {
        "id": "q71E8pT0CBGi"
      },
      "execution_count": null,
      "outputs": []
    },
    {
      "cell_type": "code",
      "source": [
        "print(\"Total LR coefficients:\", len(model.stages[2].coefficients))\n",
        "print(\"Coefficients:\", model.stages[2].coefficients)\n",
        "print(\"Intercept:\", model.stages[2].intercept)"
      ],
      "metadata": {
        "colab": {
          "base_uri": "https://localhost:8080/"
        },
        "id": "13qZgf4UCsAo",
        "outputId": "6b7be306-72de-424d-c6ee-991063289e7b"
      },
      "execution_count": null,
      "outputs": [
        {
          "output_type": "stream",
          "name": "stdout",
          "text": [
            "Total LR coefficients: 5\n",
            "Coefficients: [259713.7417073235,8489.784330534883,3378.7740198882,-3513.271186072594,255.21011993161852]\n",
            "Intercept: 201733.14322794523\n"
          ]
        }
      ]
    },
    {
      "cell_type": "code",
      "source": [
        "pred = model.transform(data_test)\n",
        "pred.select('prediction', 'Price').show(10, truncate=False)\n"
      ],
      "metadata": {
        "colab": {
          "base_uri": "https://localhost:8080/"
        },
        "id": "frvp0gesC_Eq",
        "outputId": "967aa9de-3464-408f-9cac-684baff63bfd"
      },
      "execution_count": null,
      "outputs": [
        {
          "output_type": "stream",
          "name": "stdout",
          "text": [
            "+------------------+------------------+\n",
            "|prediction        |Price             |\n",
            "+------------------+------------------+\n",
            "|118121.10528354289|117632.63219959654|\n",
            "|109819.07488583298|106670.25438504865|\n",
            "|123602.47901155718|117919.45375887671|\n",
            "|112812.7645693288 |119893.50473253023|\n",
            "|114455.54351024327|115218.14440379351|\n",
            "|125803.52503171995|142918.60554292126|\n",
            "|121763.45102081564|95443.54011673816 |\n",
            "|114906.14211178281|75029.23686169085 |\n",
            "|124524.17765361229|128827.18170769783|\n",
            "|127635.82198153388|131723.44904010184|\n",
            "+------------------+------------------+\n",
            "only showing top 10 rows\n",
            "\n"
          ]
        }
      ]
    },
    {
      "cell_type": "code",
      "source": [
        "Lassoregressor = LinearRegression(labelCol='Price',\n",
        "                                  featuresCol='scaled_Features',\n",
        "                                  elasticNetParam=1,  # Lasso\n",
        "                                  regParam=0.1)\n",
        "\n",
        "Lasso_pipeline = Pipeline(stages=[assembler, scaler, Lassoregressor])\n",
        "LassoModel = Lasso_pipeline.fit(data_train)\n",
        "lassopred = LassoModel.transform(data_test)\n",
        "lassopred.select('prediction', 'Price').show(10, truncate=False)"
      ],
      "metadata": {
        "colab": {
          "base_uri": "https://localhost:8080/"
        },
        "id": "UV91klcwDFYu",
        "outputId": "cf444a74-08ea-42c5-adeb-405562dac118"
      },
      "execution_count": null,
      "outputs": [
        {
          "output_type": "stream",
          "name": "stdout",
          "text": [
            "+------------------+------------------+\n",
            "|prediction        |Price             |\n",
            "+------------------+------------------+\n",
            "|118121.55139928522|117632.63219959654|\n",
            "|109819.72956462958|106670.25438504865|\n",
            "|123602.52632204814|117919.45375887671|\n",
            "|112813.2332470289 |119893.50473253023|\n",
            "|114456.13651147648|115218.14440379351|\n",
            "|125803.59497237773|142918.60554292126|\n",
            "|121763.63596307614|95443.54011673816 |\n",
            "|114906.7293521888 |75029.23686169085 |\n",
            "|124524.37552737916|128827.18170769783|\n",
            "|127635.96808516192|131723.44904010184|\n",
            "+------------------+------------------+\n",
            "only showing top 10 rows\n",
            "\n"
          ]
        }
      ]
    },
    {
      "cell_type": "code",
      "source": [
        "from pyspark.ml.evaluation import RegressionEvaluator\n",
        "from pyspark.ml.regression import LinearRegression\n",
        "from pyspark.ml import Pipeline\n",
        "\n",
        "# Define evaluators\n",
        "evaluator_mse = RegressionEvaluator(labelCol='Price', predictionCol='prediction', metricName='mse')\n",
        "evaluator_rmse = RegressionEvaluator(labelCol='Price', predictionCol='prediction', metricName='rmse')\n",
        "evaluator_r2 = RegressionEvaluator(labelCol='Price', predictionCol='prediction', metricName='r2')\n",
        "\n",
        "# Evaluate Linear\n",
        "mse_lr = evaluator_mse.evaluate(pred)\n",
        "rmse_lr = evaluator_rmse.evaluate(pred)\n",
        "r2_lr = evaluator_r2.evaluate(pred)\n",
        "\n",
        "# Evaluate Lasso\n",
        "mse_lasso = evaluator_mse.evaluate(lassopred)\n",
        "rmse_lasso = evaluator_rmse.evaluate(lassopred)\n",
        "r2_lasso = evaluator_r2.evaluate(lassopred)\n",
        "\n",
        "# Define and fit Ridge Regression model\n",
        "Ridgeregressor = LinearRegression(labelCol='Price',\n",
        "                                  featuresCol='scaled_Features',\n",
        "                                  elasticNetParam=0,  # Ridge\n",
        "                                  regParam=0.1)\n",
        "\n",
        "Ridge_pipeline = Pipeline(stages=[assembler, scaler, Ridgeregressor])\n",
        "RidgeModel = Ridge_pipeline.fit(data_train)\n",
        "ridgepred = RidgeModel.transform(data_test)\n",
        "\n",
        "# Evaluate Ridge\n",
        "mse_ridge = evaluator_mse.evaluate(ridgepred)\n",
        "rmse_ridge = evaluator_rmse.evaluate(ridgepred)\n",
        "r2_ridge = evaluator_r2.evaluate(ridgepred)\n",
        "\n",
        "\n",
        "# Print results\n",
        "print('Linear Regression - MSE:', mse_lr, ', RMSE:', rmse_lr, ', R²:', r2_lr)\n",
        "print('Lasso Regression - MSE:', mse_lasso, ', RMSE:', rmse_lasso, ', R²:', r2_lasso)\n",
        "print('Ridge Regression - MSE:', mse_ridge, ', RMSE:', rmse_ridge, ', R²:', r2_ridge)"
      ],
      "metadata": {
        "colab": {
          "base_uri": "https://localhost:8080/"
        },
        "id": "gGc9Bhm0DD5r",
        "outputId": "12cad52e-fd54-43b3-fd94-c7c4ee509291"
      },
      "execution_count": null,
      "outputs": [
        {
          "output_type": "stream",
          "name": "stdout",
          "text": [
            "Linear Regression - MSE: 397865280.0583338 , RMSE: 19946.560607240885 , R²: 0.9941460215328993\n",
            "Lasso Regression - MSE: 397865309.70173943 , RMSE: 19946.561350311473 , R²: 0.994146021096742\n",
            "Ridge Regression - MSE: 397865279.7002717 , RMSE: 19946.56059826535 , R²: 0.9941460215381677\n"
          ]
        }
      ]
    },
    {
      "cell_type": "markdown",
      "source": [],
      "metadata": {
        "id": "xbsPa5w0C-2u"
      }
    },
    {
      "cell_type": "code",
      "source": [
        "import matplotlib.pyplot as plt\n",
        "import numpy as np\n",
        "\n",
        "mse = [mse_lr, mse_lasso, mse_ridge]\n",
        "rmse = [rmse_lr, rmse_lasso, rmse_ridge]\n",
        "r2_scores = [r2_lr, r2_lasso, r2_ridge]\n",
        "\n",
        "positions = np.arange(len(mse))\n",
        "bar_width = 0.2\n",
        "\n",
        "plt.bar(positions - bar_width, mse, width=bar_width, label='MSE')\n",
        "plt.bar(positions, rmse, width=bar_width, label='RMSE')\n",
        "plt.bar(positions + bar_width, r2_scores, width=bar_width, label='R² Score')\n",
        "\n",
        "plt.xlabel('Model')\n",
        "plt.ylabel('Score')\n",
        "plt.title('Comparison of Regression Models (Property Price Prediction)')\n",
        "plt.xticks(positions, ['Linear', 'Lasso', 'Ridge'])\n",
        "plt.legend()\n",
        "plt.show()"
      ],
      "metadata": {
        "colab": {
          "base_uri": "https://localhost:8080/",
          "height": 487
        },
        "id": "iMw_x4X2FHG1",
        "outputId": "3127156e-dd52-4531-e821-a9afacddf01a"
      },
      "execution_count": null,
      "outputs": [
        {
          "output_type": "display_data",
          "data": {
            "text/plain": [
              "<Figure size 640x480 with 1 Axes>"
            ],
            "image/png": "[encoded data removed]"
          },
          "metadata": {}
        }
      ]
    }
  ]
}